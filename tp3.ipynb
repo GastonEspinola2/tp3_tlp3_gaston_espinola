{
 "cells": [
  {
   "cell_type": "markdown",
   "id": "498731c6",
   "metadata": {},
   "source": [
    "# Trabajo Practico n3 - Trabajando con Lists y Sets.\n",
    "## Criterios de evaluación.\n",
    "\n",
    "* Se deben utilizar nombres de variables descriptivos y claros (Utilizar la nomeclatura correspondiente para los nombres de variables).\n",
    "* Comentarios claros y concisos que expliquen el propósito de cada sección del código.\n",
    "* Utilizar mensajes de commit **descriptivos**. (Puedes utilizar la extension CONVENTIONAL COMMIT de VS-CODE). \n",
    "* Entrega en tiempo y forma.\n",
    "* Todo el código desarrollado debe ser subido a un repositorio en GitHub (el nombre del repositorio de seguir la siguiente estructura: tp3_tlp3_nombre_apellido).\n",
    "* Para resolver las actividades se debe insertar casillas de codigo entre cada actividad del cuaderno de Jupyter\n",
    "* El repositorio de GitHub debe incluir un archivo README.md con las instrucciones necesarias para la correcta ejecución del código.\n",
    "\n",
    "### ¡Importante!\n",
    "**El incumplimiento de los criterios de evaluación restará puntos en la nota final del práctico!**"
   ]
  },
  {
   "cell_type": "markdown",
   "id": "b361a7b6",
   "metadata": {},
   "source": [
    "### Actividad 1: \n",
    "Suma de todos los elementos de una lista, utilizando bucles repetitivos (for, while)."
   ]
  },
  {
   "cell_type": "code",
   "execution_count": 2,
   "id": "26009294",
   "metadata": {},
   "outputs": [
    {
     "name": "stdout",
     "output_type": "stream",
     "text": [
      "La suma total de todos los elementos es: 204\n"
     ]
    }
   ],
   "source": [
    "\n",
    "# todo:\n",
    "\n",
    "numbers = [14, 23, 34, 48, 85]\n",
    "\n",
    "suma = 0\n",
    "\n",
    "for numeros in numbers:\n",
    "    suma += numeros\n",
    "\n",
    "print(f\"La suma total de todos los elementos es: {suma}\")"
   ]
  },
  {
   "cell_type": "markdown",
   "id": "0c239195",
   "metadata": {},
   "source": [
    "### Actividad 2: \n",
    "Encontrar el número más grande en una lista, utilizando bucles repetitivos (for, while)."
   ]
  },
  {
   "cell_type": "code",
   "execution_count": null,
   "id": "3611d25a",
   "metadata": {},
   "outputs": [
    {
     "name": "stdout",
     "output_type": "stream",
     "text": [
      "La lista es: [7, 14, 96, 85, 98]\n",
      "El numero mas grande de la lista es: 98\n"
     ]
    }
   ],
   "source": [
    "\n",
    "# todo:\n",
    "\n",
    "from random import randint\n",
    "random_numbers =[randint(1, 100) for i in range(5)]\n",
    "# Tomo el primer numero de random_numbers\n",
    "mayor = random_numbers[0]\n",
    "i = 1\n",
    "\n",
    "# Comparo cada numero de random_numbers con el que salio en \"mayor\", si es mas grande se reemplaza el \"mayor\" y se analiza el nuevo numero, hasta la longitud de la lista (osea compara 5 numeros)\n",
    "while i < len(random_numbers):\n",
    "    if random_numbers[i] > mayor:\n",
    "        mayor = random_numbers[i]\n",
    "    i += 1\n",
    "\n",
    "print(f\"La lista es: {random_numbers}\")\n",
    "print(f\"El numero mas grande de la lista es: {mayor}\")"
   ]
  },
  {
   "cell_type": "markdown",
   "id": "70a24b97",
   "metadata": {},
   "source": [
    "### Actividad 3:\n",
    "Contar cuántas veces aparece un número específico. Utiliza estructuras repetitivas para la resolucion de este ejercicio. "
   ]
  },
  {
   "cell_type": "code",
   "execution_count": null,
   "id": "a9c8ebc7",
   "metadata": {},
   "outputs": [
    {
     "name": "stdout",
     "output_type": "stream",
     "text": [
      "\"Su lista es:\n",
      "    [97, 35, 140, 179, 192, 159, 113, 86, 73, 174, 23, 192, 59, 109, 24, 106, 102, 88, 179, 100]\n",
      "El numero buscadoo aparece 1 veces\n"
     ]
    }
   ],
   "source": [
    "\n",
    "# todo:\n",
    "from random import randint\n",
    "\n",
    "lists = [randint(1, 200) for i in range(20)]\n",
    "\n",
    "print(f\"\"\"\"Su lista es:\n",
    "    {lists}\"\"\")\n",
    "\n",
    "numero_buscado = 24\n",
    "contador = 0\n",
    "\n",
    "# Si el numero buscado es igual al numero que aparece se suma 1 al contador dependiendo las veces que salga\n",
    "for numero in lists:\n",
    "    if numero == numero_buscado:\n",
    "        contador += 1\n",
    "\n",
    "print(f\"El numero buscadoo aparece {contador} veces\")\n"
   ]
  },
  {
   "cell_type": "markdown",
   "id": "b8dac397",
   "metadata": {},
   "source": [
    "### Actividad 4: \n",
    "Invertir una lista sin usar reverse() ni [::-1]"
   ]
  },
  {
   "cell_type": "code",
   "execution_count": null,
   "id": "d04fd492",
   "metadata": {},
   "outputs": [
    {
     "name": "stdout",
     "output_type": "stream",
     "text": [
      "Su lista original es: \n",
      "    [4, 24, 26, 18, 1, 18, 3, 18]\n",
      "La lista invertida es: \n",
      "    [18, 3, 18, 1, 18, 26, 24, 4]\n"
     ]
    }
   ],
   "source": [
    "\n",
    "# todo:\n",
    "\n",
    "lists_two = [randint(1, 50) for i in range(8)]\n",
    "\n",
    "lista_invertida = []\n",
    "\n",
    "#el primer -1 es el ultimo indicide la lista.\n",
    "#el segundo -1 es el limite inferior. Osea termina en 0\n",
    "#el tercer -1 significa que vamos hacia atras de uno en uno\n",
    "for i in range(len(lists_two)-1, -1, -1):\n",
    "    # Se agrega a la lista invertida\n",
    "    lista_invertida.append(lists_two[i])\n",
    "\n",
    "print(f\"\"\"Su lista original es: \n",
    "    {lists_two}\"\"\")\n",
    "print(f\"\"\"La lista invertida es: \n",
    "    {lista_invertida}\"\"\")"
   ]
  },
  {
   "cell_type": "markdown",
   "id": "8889d0f2",
   "metadata": {},
   "source": [
    "### Actividad 5:\n",
    "Sumar los elementos de dos listas posición por posición, utilizando solo bucles repetititivos (for,while)."
   ]
  },
  {
   "cell_type": "code",
   "execution_count": null,
   "id": "bc0ec844",
   "metadata": {},
   "outputs": [
    {
     "name": "stdout",
     "output_type": "stream",
     "text": [
      "La suma de todos los elementos es: \n",
      "    [3, 7, 11, 16, 18]\n"
     ]
    }
   ],
   "source": [
    "\n",
    "# todo:\n",
    "\n",
    "lists_one = [ 2,4,6,7,8 ]\n",
    "lists_two = [ 1,3,5,9,10 ]\n",
    "\n",
    "suma = []\n",
    "\n",
    "# Suma cada elemento de ambas listas y las añade a \"suma\"\n",
    "for i in range(len(lists_one)):\n",
    "    resultado = lists_one[i] + lists_two[i]\n",
    "    suma.append(resultado)\n",
    "\n",
    "print(f\"\"\"La suma de todos los elementos es: \n",
    "    {suma}\"\"\")"
   ]
  },
  {
   "cell_type": "markdown",
   "id": "8ce33e6b",
   "metadata": {},
   "source": [
    "### Actividad 6:\n",
    "\n",
    "Escribir un programa que almacene el abecedario en una lista, elimine de la lista las letras que ocupen posiciones múltiplos de 3, y muestre por pantalla la lista resultante."
   ]
  },
  {
   "cell_type": "code",
   "execution_count": null,
   "id": "b07326e2",
   "metadata": {},
   "outputs": [
    {
     "name": "stdout",
     "output_type": "stream",
     "text": [
      "El abecedario sin las letras multiplos de 3 es: \n",
      "    ['a', 'b', 'd', 'e', 'g', 'h', 'j', 'k', 'm', 'n', 'p', 'q', 's', 't', 'v', 'w', 'y', 'z']\n"
     ]
    }
   ],
   "source": [
    "\n",
    "# todo:\n",
    "\n",
    "#muestra todas las letras del abecedario\n",
    "abecedario = [chr(i) for i in range(97, 123)] \n",
    "\n",
    "abecedario_two = []\n",
    "\n",
    "# Si el sobrante de la division es distinto de 0 las añade a la lista \"abecedario_two\"\n",
    "for i in range(len(abecedario)):\n",
    "    if (i + 1) % 3 != 0:\n",
    "        abecedario_two.append(abecedario[i])\n",
    "\n",
    "print(f\"\"\"El abecedario sin las letras multiplos de 3 es: \n",
    "    {abecedario_two}\"\"\")\n"
   ]
  },
  {
   "cell_type": "markdown",
   "id": "5bfeb4b5",
   "metadata": {},
   "source": [
    "### Actividad 7:\n",
    "\n",
    "Escribir un programa que pida al usuario una palabra y muestre por pantalla si es un palíndromo (una palabra que se escribe de la misma forma al derecho y al reves)."
   ]
  },
  {
   "cell_type": "code",
   "execution_count": null,
   "id": "2365afcc",
   "metadata": {},
   "outputs": [
    {
     "name": "stdout",
     "output_type": "stream",
     "text": [
      "Su palabra no es un palíndromo\n"
     ]
    }
   ],
   "source": [
    "\n",
    "# todo:\n",
    "\n",
    "palindromo = input(\"Ingrese una palabra para analizar si es palíndromo\")\n",
    "\n",
    "# Si \"palindromo\" es igual a la reversa de la misma, quiere decir que SI es un palindromo (el [::-1] hace referencia a la reversa)\n",
    "if palindromo == palindromo[::-1]:\n",
    "    print(\"Su palabra es un palíndromo\")\n",
    "else:\n",
    "    print(\"Su palabra no es un palíndromo\")"
   ]
  },
  {
   "cell_type": "markdown",
   "id": "ed8b51be",
   "metadata": {},
   "source": [
    "### Actividad 8:\n",
    "\n",
    "Teniendo en cuenta el conjunto 1 y el conjunto 2, sin usar el operador de intersección &, calcular la intersección de dichos conjuntos."
   ]
  },
  {
   "cell_type": "code",
   "execution_count": null,
   "id": "21a434b9",
   "metadata": {},
   "outputs": [
    {
     "name": "stdout",
     "output_type": "stream",
     "text": [
      "La interseccion entre ambos conjuntos es: \n",
      "    {3, 4}\n"
     ]
    }
   ],
   "source": [
    "conjunto1 = {1, 2, 3, 4}\n",
    "conjunto2 = {3, 4, 5, 6}\n",
    "# todo:\n",
    "\n",
    "interseccion = set()\n",
    "\n",
    "#Compara si se encuentra en ambos conjuntos y si se encuentra, lo añade a \"interseccion\"\n",
    "for elemento in conjunto1:\n",
    "    if elemento in conjunto2:\n",
    "        interseccion.add(elemento)\n",
    "\n",
    "print(f\"\"\"La interseccion entre ambos conjuntos es: \n",
    "    {interseccion}\"\"\")"
   ]
  },
  {
   "cell_type": "markdown",
   "id": "31b460dc",
   "metadata": {},
   "source": [
    "### Actividad 9:\n",
    "Eliminar duplicados de una lista usando un set."
   ]
  },
  {
   "cell_type": "code",
   "execution_count": null,
   "id": "0ef62008",
   "metadata": {},
   "outputs": [
    {
     "name": "stdout",
     "output_type": "stream",
     "text": [
      "Lista original: \n",
      "    [1, 2, 2, 3, 4, 4, 5]\n",
      "Lista sin duplicados:  \n",
      "    [1, 2, 3, 4, 5]\n"
     ]
    }
   ],
   "source": [
    "\n",
    "# todo:\n",
    "lista = [1, 2, 2, 3, 4, 4, 5]\n",
    "\n",
    "# el set convierte el conjunto en {1, 2, 3, 4, 5}\n",
    "# el list lo convierte en lista\n",
    "no_duplicados = list(set(lista))\n",
    "print(f\"\"\"Lista original: \n",
    "    {lista}\"\"\")\n",
    "print(f\"\"\"Lista sin duplicados:  \n",
    "    {no_duplicados}\"\"\")"
   ]
  },
  {
   "cell_type": "markdown",
   "id": "075f1f2c",
   "metadata": {},
   "source": [
    "### Actividad 10:\n",
    "\n",
    "Escribir un programa que cree 2 matrices y realice su multiplicacion."
   ]
  },
  {
   "cell_type": "code",
   "execution_count": null,
   "id": "4c1fd0e1",
   "metadata": {},
   "outputs": [],
   "source": [
    "\n",
    "# todo:"
   ]
  }
 ],
 "metadata": {
  "kernelspec": {
   "display_name": "Python 3",
   "language": "python",
   "name": "python3"
  },
  "language_info": {
   "codemirror_mode": {
    "name": "ipython",
    "version": 3
   },
   "file_extension": ".py",
   "mimetype": "text/x-python",
   "name": "python",
   "nbconvert_exporter": "python",
   "pygments_lexer": "ipython3",
   "version": "3.13.2"
  }
 },
 "nbformat": 4,
 "nbformat_minor": 5
}
